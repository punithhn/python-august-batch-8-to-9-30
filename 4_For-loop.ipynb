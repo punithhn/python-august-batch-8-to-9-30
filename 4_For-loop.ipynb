{
 "cells": [
  {
   "cell_type": "markdown",
   "id": "3f4de888-65f5-4a54-b223-4a5190491de9",
   "metadata": {},
   "source": [
    "## Loop in python\n",
    "##### Loops in Python allow us to execute a block of code multiple times without rewriting it."
   ]
  },
  {
   "cell_type": "markdown",
   "id": "3ac67da4-dcef-465d-813e-f236a682f2c4",
   "metadata": {},
   "source": [
    "##### TYPES OF LOOPS IN PYTHON\n",
    "     . For loop\n",
    "     . While loop\n",
    "     . Nested loop\n",
    "      "
   ]
  },
  {
   "cell_type": "markdown",
   "id": "c390c959-7f14-4c48-91d2-5836036e9c3f",
   "metadata": {},
   "source": [
    "###### intuition of loops\n",
    "Here you know how many numbers of iteration you have to go through, like you have to transfer only 4 mugs.\n",
    "\n",
    "1) So when you know the number of iterations, you will use a ' FOR loop'.\n",
    "\n",
    "In the second scenario, you do not know how many mugs you need to transfer, but you do know the condition that determines when to stop.\n",
    "\n",
    "2) So when you do not know how many iterations you have to use, but you know a condition that determines when to stop, you will use a  ' WHILE loop '"
   ]
  },
  {
   "cell_type": "markdown",
   "id": "66084d95-b012-42b4-888e-821dcf8f1910",
   "metadata": {},
   "source": [
    "## -- For loop__\n",
    "   ##### -a- for loop with sequence -- str, list, tuple, set,dict.\n",
    "   ##### -b- for loop with range function"
   ]
  },
  {
   "cell_type": "markdown",
   "id": "4ad3749d-76d7-44e4-9a80-466aaefdf33c",
   "metadata": {},
   "source": [
    "##### _Range function_\n",
    "\n",
    "Before understanding for loops, you should know how the range function works.\n",
    "\n",
    "-- The range() function is used to generate a sequence of numbers, which is commonly used in loops.\n",
    "\n",
    "-- The syntax of the range function is simple range(start, stop, steps).\n",
    "\n",
    "You have 3 points from where you want to start, till where you want to stop and how many steps you want.\n",
    "\n",
    "If you do not mention the start point, the default value will be 0.\n",
    "\n",
    "If you do not mention the steps, the default steps will be 1. you have to mention the stop point otherwise, the range function will not work.\n"
   ]
  },
  {
   "cell_type": "markdown",
   "id": "62435203-05da-4751-951e-fe0a30e4a40e",
   "metadata": {},
   "source": [
    "\n",
    "## --Loops for numbers__\n",
    "\n",
    "For using loops with numbers you need the range function.\n",
    "\n",
    "The best way to understand is going with an example You have to print numbers from 1-5. we will solve this question using for loop and range function."
   ]
  },
  {
   "cell_type": "code",
   "execution_count": 28,
   "id": "d1c446f0-0751-4c99-affc-fee800a7dfb3",
   "metadata": {},
   "outputs": [
    {
     "name": "stdout",
     "output_type": "stream",
     "text": [
      "1\n",
      "2\n",
      "3\n",
      "4\n"
     ]
    }
   ],
   "source": [
    "for i in range(1,5):  #  i is an iterative variable.\n",
    "    print (i)\n",
    "    "
   ]
  },
  {
   "cell_type": "code",
   "execution_count": 29,
   "id": "54f6a304-13c9-4f1d-a4de-f23ebd7cdfdb",
   "metadata": {},
   "outputs": [
    {
     "name": "stdout",
     "output_type": "stream",
     "text": [
      "1 2 3 4 "
     ]
    }
   ],
   "source": [
    "for i in range(1,5):  \n",
    "    print(i, end=\" \")"
   ]
  },
  {
   "cell_type": "markdown",
   "id": "9f972d5d-05aa-42ab-a2ac-8b9c2a8da68f",
   "metadata": {},
   "source": [
    "## --Loops for strings__"
   ]
  },
  {
   "cell_type": "markdown",
   "id": "58810f79-35a5-4742-86c0-afabc78f9f77",
   "metadata": {},
   "source": [
    "\n",
    "##### Loops for strings work slightly differently. You can iterate through a string in two ways:\n",
    "\n",
    "          a. Using Index values.\n",
    "\n",
    "          b. Iterating directly over the string.\n"
   ]
  },
  {
   "cell_type": "markdown",
   "id": "8dc97904-156b-44e6-8f1b-0035d8be4f48",
   "metadata": {},
   "source": [
    "##### 1. Iteration using the index value "
   ]
  },
  {
   "cell_type": "code",
   "execution_count": 30,
   "id": "64fa01ac-c4fe-46c4-bbf8-d23d2a5f18bc",
   "metadata": {},
   "outputs": [
    {
     "name": "stdout",
     "output_type": "stream",
     "text": [
      "N\n",
      "a\n",
      "t\n",
      "u\n",
      "r\n",
      "e\n"
     ]
    }
   ],
   "source": [
    "a =\"Nature\"\n",
    "\n",
    "for i in range(len(a)):\n",
    "     print(a[i])"
   ]
  },
  {
   "cell_type": "markdown",
   "id": "bada4bb2-442e-4f21-a218-478768aa5e07",
   "metadata": {},
   "source": [
    "##### 2. Second way is simpler we can directly Iterate but using this method will give you the direct access to the characters Instead of index values."
   ]
  },
  {
   "cell_type": "code",
   "execution_count": 31,
   "id": "d34271da-9bbf-48e9-a71c-d9df9b61ba77",
   "metadata": {},
   "outputs": [
    {
     "name": "stdout",
     "output_type": "stream",
     "text": [
      "N\n",
      "a\n",
      "t\n",
      "u\n",
      "r\n",
      "e\n"
     ]
    }
   ],
   "source": [
    "\n",
    "a= \"Nature\"\n",
    "\n",
    "for char in a:\n",
    "     print(char)"
   ]
  },
  {
   "cell_type": "code",
   "execution_count": 32,
   "id": "65ff328f-6e91-4485-acc2-f638fdd97ceb",
   "metadata": {},
   "outputs": [],
   "source": [
    "name = \"Rohit\""
   ]
  },
  {
   "cell_type": "code",
   "execution_count": 33,
   "id": "63d124be-98aa-4cb0-876f-2c7759fd4c62",
   "metadata": {},
   "outputs": [
    {
     "name": "stdout",
     "output_type": "stream",
     "text": [
      "Rohit\n"
     ]
    },
    {
     "data": {
      "text/plain": [
       "5"
      ]
     },
     "execution_count": 33,
     "metadata": {},
     "output_type": "execute_result"
    }
   ],
   "source": [
    "print(name)\n",
    "len(name)\n"
   ]
  },
  {
   "cell_type": "code",
   "execution_count": 34,
   "id": "17ec0004-c2a8-4477-8947-e7342a1cca9e",
   "metadata": {},
   "outputs": [
    {
     "name": "stdout",
     "output_type": "stream",
     "text": [
      "(0, 'R')\n",
      "(1, 'o')\n",
      "(2, 'h')\n",
      "(3, 'i')\n",
      "(4, 't')\n"
     ]
    }
   ],
   "source": [
    "for i in enumerate(name):   # enumerate use to give a position with character \n",
    "    print (i)"
   ]
  },
  {
   "cell_type": "code",
   "execution_count": 35,
   "id": "e94ed17d-7202-4b08-8752-d600eb98aa04",
   "metadata": {},
   "outputs": [
    {
     "name": "stdout",
     "output_type": "stream",
     "text": [
      "['apple', 'banana', 'mango', 'grapes', 'pineapple']\n",
      "g\n",
      "5\n"
     ]
    }
   ],
   "source": [
    "fruit=['apple', 'banana', 'mango', 'grapes', 'pineapple']\n",
    "print(fruit)\n",
    "print(fruit[2][3])\n",
    "print(len(fruit))"
   ]
  },
  {
   "cell_type": "code",
   "execution_count": 36,
   "id": "9b146e67-3023-4ac8-95ac-1d8c838c7ba5",
   "metadata": {},
   "outputs": [
    {
     "name": "stdout",
     "output_type": "stream",
     "text": [
      "(0, 'apple')\n",
      "(1, 'banana')\n",
      "(2, 'mango')\n",
      "(3, 'grapes')\n",
      "(4, 'pineapple')\n"
     ]
    }
   ],
   "source": [
    "for i in enumerate(fruit):\n",
    "    print(i)"
   ]
  },
  {
   "cell_type": "raw",
   "id": "8d7d6f64-64ed-42b4-a983-830b297135cf",
   "metadata": {},
   "source": [
    "Initialization\n",
    "condition\n",
    "incrementation/decrementation\n",
    "range (start value, stop value, step size)"
   ]
  },
  {
   "cell_type": "code",
   "execution_count": 37,
   "id": "97fbd9f2-d89a-4ab4-8359-71e8454a4c29",
   "metadata": {},
   "outputs": [
    {
     "name": "stdout",
     "output_type": "stream",
     "text": [
      "1\n",
      "2\n",
      "3\n",
      "4\n",
      "5\n",
      "6\n",
      "7\n",
      "8\n",
      "9\n",
      "10\n"
     ]
    }
   ],
   "source": [
    "for i in range(1,11):\n",
    "    print(i)"
   ]
  },
  {
   "cell_type": "code",
   "execution_count": 38,
   "id": "63edb129-e3d8-4bbd-925a-8c39d6da8059",
   "metadata": {},
   "outputs": [
    {
     "name": "stdout",
     "output_type": "stream",
     "text": [
      "1\n",
      "3\n",
      "5\n",
      "7\n",
      "9\n"
     ]
    }
   ],
   "source": [
    "for i in range(1,11,2):\n",
    "    print(i)"
   ]
  },
  {
   "cell_type": "code",
   "execution_count": 39,
   "id": "2ae7d910-4e96-4976-a5c4-d6487d8c92a1",
   "metadata": {},
   "outputs": [
    {
     "name": "stdout",
     "output_type": "stream",
     "text": [
      "1\n",
      "4\n",
      "27\n",
      "256\n",
      "3125\n",
      "46656\n",
      "823543\n",
      "16777216\n",
      "387420489\n",
      "10000000000\n"
     ]
    }
   ],
   "source": [
    "for i in range(1,11,1):\n",
    "    print(i**i)"
   ]
  },
  {
   "cell_type": "code",
   "execution_count": 40,
   "id": "0007e844-44ee-458a-bda8-f0b089c1c818",
   "metadata": {},
   "outputs": [
    {
     "name": "stdout",
     "output_type": "stream",
     "text": [
      "1 tihoR\n",
      "2 tihoR\n",
      "3 tihoR\n",
      "4 tihoR\n",
      "5 tihoR\n",
      "6 tihoR\n",
      "7 tihoR\n",
      "8 tihoR\n",
      "9 tihoR\n",
      "10 tihoR\n"
     ]
    }
   ],
   "source": [
    "for i in range(1,11):\n",
    "    print(i, name[ ::-1]) # print in reverse manner"
   ]
  },
  {
   "cell_type": "code",
   "execution_count": 41,
   "id": "d3fd885b-f60e-46fa-bfe5-b884cd1cbeb0",
   "metadata": {},
   "outputs": [
    {
     "name": "stdout",
     "output_type": "stream",
     "text": [
      "0 R\n",
      "2 h\n",
      "4 t\n"
     ]
    }
   ],
   "source": [
    "name =\"Rohit\" \n",
    "s=len(name)\n",
    "for i in range(0,s,2):\n",
    "    print(i, name[i])"
   ]
  },
  {
   "cell_type": "code",
   "execution_count": 42,
   "id": "8f6bc62c-5eaa-4a40-a565-af5e1768de06",
   "metadata": {},
   "outputs": [
    {
     "name": "stdout",
     "output_type": "stream",
     "text": [
      "0 R\n",
      "1 o\n",
      "2 h\n",
      "3 i\n",
      "4 t\n"
     ]
    }
   ],
   "source": [
    "name =\"Rohit\" \n",
    "for i in range(0,len(name)):\n",
    "    print(i, name[i])"
   ]
  },
  {
   "cell_type": "code",
   "execution_count": 43,
   "id": "3e64f763-a350-4377-a5a0-3f9cbd4cc70e",
   "metadata": {},
   "outputs": [
    {
     "name": "stdout",
     "output_type": "stream",
     "text": [
      "2\n",
      "4\n",
      "6\n",
      "8\n",
      "10\n",
      "12\n",
      "14\n",
      "16\n",
      "18\n",
      "20\n"
     ]
    }
   ],
   "source": [
    "# Write a program to print even numbers \n",
    "\n",
    "for i in range(2,21,2):\n",
    "    print(i)"
   ]
  },
  {
   "cell_type": "code",
   "execution_count": 44,
   "id": "fb6cb325-8a0d-4b7d-b515-c04ee1e614af",
   "metadata": {},
   "outputs": [
    {
     "name": "stdout",
     "output_type": "stream",
     "text": [
      "3\n",
      "5\n",
      "7\n",
      "9\n",
      "11\n",
      "13\n",
      "15\n",
      "17\n",
      "19\n"
     ]
    }
   ],
   "source": [
    "# Write a program to print odd numbers\n",
    "\n",
    "for i in range(2,21):\n",
    "    if i%2==1:\n",
    "      print(i)"
   ]
  },
  {
   "cell_type": "code",
   "execution_count": 45,
   "id": "c9d3e27d-be62-475a-ad60-b174a0ba1fb5",
   "metadata": {},
   "outputs": [
    {
     "name": "stdout",
     "output_type": "stream",
     "text": [
      "1 = odd number\n",
      "2 = Even number\n",
      "3 = odd number\n",
      "4 = Even number\n",
      "5 = odd number\n",
      "6 = Even number\n",
      "7 = odd number\n",
      "8 = Even number\n",
      "9 = odd number\n",
      "10 = Even number\n",
      "11 = odd number\n",
      "12 = Even number\n",
      "13 = odd number\n",
      "14 = Even number\n",
      "15 = odd number\n",
      "16 = Even number\n",
      "17 = odd number\n",
      "18 = Even number\n",
      "19 = odd number\n",
      "20 = Even number\n"
     ]
    }
   ],
   "source": [
    "# Write a program to print odd numbers\n",
    "\n",
    "for i in range(1,21):\n",
    "    if i%2==0:\n",
    "      print(i,\"= Even number\")\n",
    "    elif i%2==1:\n",
    "        print(i,\"= odd number\")"
   ]
  },
  {
   "cell_type": "code",
   "execution_count": null,
   "id": "d02bdf5c-79b9-4cf3-92d5-11738be10f9d",
   "metadata": {},
   "outputs": [],
   "source": []
  },
  {
   "cell_type": "code",
   "execution_count": 1,
   "id": "c4d28436-9d20-4175-8d46-92f03d518533",
   "metadata": {},
   "outputs": [
    {
     "name": "stdin",
     "output_type": "stream",
     "text": [
      "   5\n"
     ]
    },
    {
     "name": "stdout",
     "output_type": "stream",
     "text": [
      "5 * 1 = 5\n",
      "5 * 2 = 10\n",
      "5 * 3 = 15\n",
      "5 * 4 = 20\n",
      "5 * 5 = 25\n",
      "5 * 6 = 30\n",
      "5 * 7 = 35\n",
      "5 * 8 = 40\n",
      "5 * 9 = 45\n",
      "5 * 10 = 50\n"
     ]
    }
   ],
   "source": [
    "user=int(input(\"  \"))\n",
    "for i in range(1,11):\n",
    "    print(user,\"*\",i ,\"=\", (i*user))\n",
    "    "
   ]
  },
  {
   "cell_type": "markdown",
   "id": "b529b489-f870-453b-a4b7-4dcb3e7e8973",
   "metadata": {},
   "source": [
    "##### print a factorial of a number"
   ]
  },
  {
   "cell_type": "code",
   "execution_count": 2,
   "id": "90d3c054-2369-4edb-a1ea-81c4185cf1f2",
   "metadata": {},
   "outputs": [
    {
     "name": "stdin",
     "output_type": "stream",
     "text": [
      "   5\n"
     ]
    },
    {
     "name": "stdout",
     "output_type": "stream",
     "text": [
      "120\n"
     ]
    }
   ],
   "source": [
    "user=int(input(\"  \"))\n",
    "def factorial(x):\n",
    "   if x==0:\n",
    "       return 1\n",
    "   else :\n",
    "       return x * factorial (x-1)\n",
    "print(factorial(user))    "
   ]
  },
  {
   "cell_type": "markdown",
   "id": "1f6e30c7-32cb-4d81-ac9c-edd17a73f3d7",
   "metadata": {},
   "source": [
    "##### Q. sum of a number"
   ]
  },
  {
   "cell_type": "code",
   "execution_count": 19,
   "id": "12becc48-1f24-4780-b38b-46105420f40d",
   "metadata": {},
   "outputs": [
    {
     "name": "stdout",
     "output_type": "stream",
     "text": [
      "1\n",
      "3\n",
      "6\n",
      "10\n",
      "15\n",
      "15\n"
     ]
    }
   ],
   "source": [
    "s=0\n",
    "for i in range(1,6):\n",
    "    s = s + i\n",
    "    print(s)\n",
    "print(s)    "
   ]
  },
  {
   "cell_type": "markdown",
   "id": "2429853a-f84b-4ff9-9976-0538559f6d49",
   "metadata": {},
   "source": [
    "##### Q. # write a program to print the sum of 1-5 numbers"
   ]
  },
  {
   "cell_type": "code",
   "execution_count": 5,
   "id": "6fac1b95-bf24-4027-a46c-64372c1c712e",
   "metadata": {},
   "outputs": [
    {
     "name": "stdout",
     "output_type": "stream",
     "text": [
      "15\n"
     ]
    }
   ],
   "source": [
    "sum=0\n",
    "for i in range(1,6):\n",
    "    sum = sum + i ;\n",
    "print(sum)"
   ]
  },
  {
   "cell_type": "markdown",
   "id": "dcfe841e-b556-4f18-83ca-debee9337ce9",
   "metadata": {},
   "source": [
    "##### Q. Write a program to print the sum of n natural numbers"
   ]
  },
  {
   "cell_type": "code",
   "execution_count": 7,
   "id": "6fa8bdd3-243e-4181-a938-8edeb3a508b8",
   "metadata": {},
   "outputs": [
    {
     "name": "stdin",
     "output_type": "stream",
     "text": [
      " 6\n"
     ]
    },
    {
     "name": "stdout",
     "output_type": "stream",
     "text": [
      "21\n"
     ]
    }
   ],
   "source": [
    "n=int(input(  ))\n",
    "sum=0\n",
    "for i in range(1,n+1):\n",
    "    sum=sum +i\n",
    "print(sum)"
   ]
  },
  {
   "cell_type": "markdown",
   "id": "20c2e4cc-ff89-49ee-8185-481239780550",
   "metadata": {},
   "source": [
    "##### Q. Write a program to count the number of odd numbers from 1 to 30\n",
    "##### Q. Write a program to count the number of even numbers from 1 to 30"
   ]
  },
  {
   "cell_type": "code",
   "execution_count": 25,
   "id": "6cf86dc1-3b74-47c0-8d51-cff856521c95",
   "metadata": {},
   "outputs": [
    {
     "name": "stdout",
     "output_type": "stream",
     "text": [
      "even_count is  15\n",
      "odd_count is  15\n"
     ]
    }
   ],
   "source": [
    "even_count=0\n",
    "odd_count=0\n",
    "\n",
    "for i in  range(1,31):\n",
    "    if i%2==0:\n",
    "        even_count=even_count+1\n",
    "    else:\n",
    "        odd_count=odd_count+1\n",
    "        \n",
    "print(\"even_count is \", even_count)  \n",
    "print(\"odd_count is \", odd_count)"
   ]
  },
  {
   "cell_type": "raw",
   "id": "1e8d1785-5194-4a63-b334-181bd070da15",
   "metadata": {},
   "source": [
    "or"
   ]
  },
  {
   "cell_type": "code",
   "execution_count": 26,
   "id": "5776add2-ab96-47ba-be6f-b1d34ab02ea6",
   "metadata": {},
   "outputs": [
    {
     "name": "stdin",
     "output_type": "stream",
     "text": [
      "enter the num  39\n"
     ]
    },
    {
     "name": "stdout",
     "output_type": "stream",
     "text": [
      "even_count is  19\n",
      "odd_count is 20\n"
     ]
    }
   ],
   "source": [
    "n=int(input( \"enter the num \" ))\n",
    "even_count=0\n",
    "odd_count=0\n",
    "\n",
    "for i in  range(1,n+1):\n",
    "    if i%2==0:\n",
    "        even_count=even_count+1\n",
    "    else:\n",
    "        odd_count=odd_count+1\n",
    "        \n",
    "print(\"even_count is \", even_count)  \n",
    "print(\"odd_count is\", odd_count)"
   ]
  },
  {
   "cell_type": "raw",
   "id": "88447f27-44d8-4d1d-9eb4-a3534dbabc2a",
   "metadata": {},
   "source": [
    "or"
   ]
  },
  {
   "cell_type": "code",
   "execution_count": 10,
   "id": "c6ad9871-bc24-49a0-9261-98381579f30c",
   "metadata": {},
   "outputs": [
    {
     "name": "stdout",
     "output_type": "stream",
     "text": [
      "15\n"
     ]
    }
   ],
   "source": [
    "count=0\n",
    "for i in  range(1,31,2):\n",
    "    count=count+1\n",
    "print(count) "
   ]
  },
  {
   "cell_type": "raw",
   "id": "2bd747e0-f6c6-488d-a9c2-16565cf2e3af",
   "metadata": {},
   "source": [
    "or"
   ]
  },
  {
   "cell_type": "code",
   "execution_count": 11,
   "id": "e35a0ec4-eed8-40e1-acb1-723fb8217bc5",
   "metadata": {},
   "outputs": [
    {
     "name": "stdout",
     "output_type": "stream",
     "text": [
      "15.0\n"
     ]
    }
   ],
   "source": [
    "count=0\n",
    "for i in  range(1,31,1):\n",
    "        count=(count+1)\n",
    "print(count/2)   "
   ]
  },
  {
   "cell_type": "raw",
   "id": "00f7e73e-5b5e-419f-a6a3-f679ce84a461",
   "metadata": {},
   "source": [
    "or"
   ]
  },
  {
   "cell_type": "code",
   "execution_count": 22,
   "id": "aa825476-8283-4b8f-8d53-77d7c0072613",
   "metadata": {},
   "outputs": [
    {
     "name": "stdin",
     "output_type": "stream",
     "text": [
      " 7\n"
     ]
    },
    {
     "name": "stdout",
     "output_type": "stream",
     "text": [
      "odd num =  4 \n",
      "even num =  3\n"
     ]
    }
   ],
   "source": [
    "n=int(input( ))\n",
    "count=0\n",
    "ecount=0\n",
    "for i in  range(1,n+1):\n",
    "    if i%2==1:\n",
    "        count=count+1\n",
    "    else:\n",
    "        if i %2==0:\n",
    "           ecount= ecount +1\n",
    "        \n",
    "print(\"odd num = \",count, \"\\neven num = \", ecount)   "
   ]
  },
  {
   "cell_type": "markdown",
   "id": "df6aa081-1cb9-407e-aa53-f9a72de382ff",
   "metadata": {},
   "source": [
    "## Print a natural number in reverse"
   ]
  },
  {
   "cell_type": "code",
   "execution_count": 14,
   "id": "b4e05988-41d0-48ec-bb4d-9f51ddfb9e7c",
   "metadata": {},
   "outputs": [
    {
     "name": "stdin",
     "output_type": "stream",
     "text": [
      " Enter the value 43wsd\n"
     ]
    },
    {
     "name": "stdout",
     "output_type": "stream",
     "text": [
      "dsw34\n"
     ]
    }
   ],
   "source": [
    "y=input(\" Enter the value\")\n",
    "for i in y:\n",
    "    u= y[::-1]\n",
    "    print(u)\n",
    "    break"
   ]
  },
  {
   "cell_type": "raw",
   "id": "26ec2161-ba5d-4250-8c6d-bf1fe94a5de1",
   "metadata": {},
   "source": [
    "or"
   ]
  },
  {
   "cell_type": "code",
   "execution_count": 12,
   "id": "f37ed97f-b7f0-4323-ac5a-0acc81751119",
   "metadata": {},
   "outputs": [
    {
     "name": "stdin",
     "output_type": "stream",
     "text": [
      " Enter the value 4543wsdfdsa\n"
     ]
    },
    {
     "name": "stdout",
     "output_type": "stream",
     "text": [
      "asdfdsw3454\n"
     ]
    }
   ],
   "source": [
    "y=input(\" Enter the value\")\n",
    "u= y[::-1]\n",
    "print(u)"
   ]
  },
  {
   "cell_type": "markdown",
   "id": "09da5eee-78e1-46fc-b6bc-1f9cc60c4f38",
   "metadata": {},
   "source": [
    "## __Break, Continue, Pass__"
   ]
  },
  {
   "cell_type": "markdown",
   "id": "d9f2a5e3-98a7-4778-a576-44aa98eeaa2c",
   "metadata": {},
   "source": [
    "##### Break : break statment is used to exit a loop parmamentaly when a certain condition is certified. "
   ]
  },
  {
   "cell_type": "markdown",
   "id": "744f2f7d-456f-4d81-8d41-79a81cf7c855",
   "metadata": {},
   "source": [
    "##### Continue : it is  used to skip one of the iterations and the rest of the iterations will be iterated (run) till the last."
   ]
  },
  {
   "cell_type": "markdown",
   "id": "9cc86d20-9986-40aa-b7a6-e67ee03ac258",
   "metadata": {},
   "source": [
    "##### Pass: It is working as a null opration in python"
   ]
  },
  {
   "cell_type": "code",
   "execution_count": 27,
   "id": "ae46e51b-df00-4489-9ae4-0cf896538853",
   "metadata": {},
   "outputs": [
    {
     "name": "stdout",
     "output_type": "stream",
     "text": [
      "1\n",
      "2\n",
      "3\n",
      "4\n",
      "5\n",
      "6\n",
      "7\n",
      "8\n",
      "9\n",
      "10\n",
      "11\n",
      "12\n",
      "13\n",
      "14\n",
      "15\n",
      "16\n",
      "17\n",
      "18\n",
      "19\n"
     ]
    }
   ],
   "source": [
    "for i in range (1,100,1):\n",
    "    if i ==20:\n",
    "        break\n",
    "    print(i)    \n"
   ]
  },
  {
   "cell_type": "code",
   "execution_count": 31,
   "id": "6902334d-5824-4759-babb-d46e48e9880c",
   "metadata": {},
   "outputs": [
    {
     "name": "stdout",
     "output_type": "stream",
     "text": [
      "1\n",
      "2\n",
      "3\n",
      "4\n",
      "5\n",
      "6\n",
      "7\n",
      "8\n",
      "9\n",
      "10\n",
      "11\n",
      "12\n",
      "13\n",
      "14\n",
      "15\n",
      "16\n",
      "17\n",
      "18\n",
      "19\n",
      "21\n",
      "22\n",
      "23\n",
      "24\n"
     ]
    }
   ],
   "source": [
    "for i in range (1,25,1):\n",
    "    if i ==20:\n",
    "        continue\n",
    "    print(i)    \n"
   ]
  },
  {
   "cell_type": "code",
   "execution_count": 33,
   "id": "2e187edb-fd73-4aa4-87fa-c01b3d2cef39",
   "metadata": {},
   "outputs": [
    {
     "name": "stdout",
     "output_type": "stream",
     "text": [
      "1\n",
      "2\n",
      "3\n",
      "4\n",
      "5\n",
      "6\n",
      "7\n",
      "8\n",
      "9\n"
     ]
    }
   ],
   "source": [
    "for i in range (1,10,1):\n",
    "    if i ==5:\n",
    "        pass  # working as a null operation \n",
    "    print(i)    \n"
   ]
  },
  {
   "cell_type": "code",
   "execution_count": null,
   "id": "4480b816-eab6-4d83-b5cf-f61be3e8ca00",
   "metadata": {},
   "outputs": [],
   "source": []
  }
 ],
 "metadata": {
  "kernelspec": {
   "display_name": "Python 3 (ipykernel)",
   "language": "python",
   "name": "python3"
  },
  "language_info": {
   "codemirror_mode": {
    "name": "ipython",
    "version": 3
   },
   "file_extension": ".py",
   "mimetype": "text/x-python",
   "name": "python",
   "nbconvert_exporter": "python",
   "pygments_lexer": "ipython3",
   "version": "3.12.7"
  },
  "widgets": {
   "application/vnd.jupyter.widget-state+json": {
    "state": {},
    "version_major": 2,
    "version_minor": 0
   }
  }
 },
 "nbformat": 4,
 "nbformat_minor": 5
}
